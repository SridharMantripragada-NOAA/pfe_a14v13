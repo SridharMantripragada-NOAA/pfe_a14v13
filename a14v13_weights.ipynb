{
 "cells": [
  {
   "cell_type": "markdown",
   "id": "a2f48d9d-4715-4045-a32e-2551896bafe6",
   "metadata": {},
   "source": [
    "### Calculates the weights for daily and sub-daily durations"
   ]
  },
  {
   "cell_type": "code",
   "execution_count": 1,
   "id": "ec9fe19e-9512-4509-b4b0-fabaf9ca8aae",
   "metadata": {},
   "outputs": [],
   "source": [
    "import logging\n",
    "from pathlib import Path\n",
    "\n",
    "import pandas as pd\n",
    "import yaml\n",
    "from pydantic import ValidationError\n",
    "\n",
    "from config.update import get_additional_config_parameters\n",
    "from config.validate import ConfigValidate\n",
    "from preprocess.main import preprocess_input_data\n",
    "from weights.main import combine_and_save_weights, compute_weights_grid_parallel"
   ]
  },
  {
   "cell_type": "markdown",
   "id": "d46dd6b3-9b9c-49c1-bbe7-2eed7cd34d6f",
   "metadata": {},
   "source": [
    "#### Read the configuration file and set logging information"
   ]
  },
  {
   "cell_type": "code",
   "execution_count": 2,
   "id": "9f57e892-112e-40cd-af23-04a41f4f158d",
   "metadata": {},
   "outputs": [],
   "source": [
    "config_file = \"config.YAML\"\n",
    "try:\n",
    "    with open(config_file, \"r\") as file:\n",
    "        config = yaml.safe_load(file)\n",
    "except FileNotFoundError:\n",
    "    print(\n",
    "        \"Configuration file not found. \"\n",
    "        \"Place the YAML file in the same folder as this notebook.\"\n",
    "    )\n",
    "    raise"
   ]
  },
  {
   "cell_type": "code",
   "execution_count": 3,
   "id": "8e3d422c-f81a-4b00-a231-47930a252e0f",
   "metadata": {},
   "outputs": [],
   "source": [
    "# Extract logging configuration\n",
    "log_file_path = config[\"weights_log_file\"]\n",
    "log_level = config[\"log_level\"].upper()\n",
    "\n",
    "# Remove all existing handlers if they are already defined\n",
    "for handler in logging.root.handlers[:]:\n",
    "    logging.root.removeHandler(handler)\n",
    "\n",
    "# Set up logging\n",
    "logging.basicConfig(\n",
    "    filename=log_file_path,\n",
    "    filemode=\"a\",\n",
    "    format=\"%(asctime)s - %(name)s - %(levelname)s - %(message)s\",\n",
    "    level=getattr(logging, log_level, logging.INFO),\n",
    ")\n",
    "\n",
    "# Create a logger\n",
    "logger = logging.getLogger(__name__)"
   ]
  },
  {
   "cell_type": "markdown",
   "id": "9e337fc3-7bad-4176-8055-aca4ebeee7d0",
   "metadata": {},
   "source": [
    "#### Validate configuration file.\n",
    "##### This step ensures that the configuration adheres to predefined schemas, catching type errors or missing fields early."
   ]
  },
  {
   "cell_type": "code",
   "execution_count": 5,
   "id": "279545ab-57d9-4735-8421-45324b5ef139",
   "metadata": {},
   "outputs": [],
   "source": [
    "try:\n",
    "    config_settings = ConfigValidate(**config)\n",
    "    logging.info(\"Configuration loaded successfully:\")\n",
    "except ValidationError:\n",
    "    logger.error(\"Validation error occurred while loading GeneralSettings\", exc_info=True)\n",
    "    raise\n",
    "except Exception as e:\n",
    "    logger.error(f\"An unexpected error occurred: {e}\", exc_info=True)\n",
    "    raise"
   ]
  },
  {
   "cell_type": "markdown",
   "id": "ab0aaadb-0b1d-47b6-89fb-399e5854f4f5",
   "metadata": {},
   "source": [
    "#### Extract additional parameters based on project region"
   ]
  },
  {
   "cell_type": "code",
   "execution_count": 7,
   "id": "61bc7ca7-a1f9-4a74-92d7-1e479e436d58",
   "metadata": {},
   "outputs": [],
   "source": [
    "config = get_additional_config_parameters(config, ok_save_log=True)"
   ]
  },
  {
   "cell_type": "markdown",
   "id": "2e98f91e-5b2c-4839-9a1a-bf387dd4363a",
   "metadata": {},
   "source": [
    "#### Calculate weights for daily and sub-daily durations\n",
    "##### Weight calculations for multiple stations are distributed among cores."
   ]
  },
  {
   "cell_type": "code",
   "execution_count": null,
   "id": "285c44fc-f3d0-4be2-961d-c0e9359b7586",
   "metadata": {},
   "outputs": [],
   "source": [
    "n_jobs = 8  # -1: use all cores"
   ]
  },
  {
   "cell_type": "code",
   "execution_count": 9,
   "id": "f23ee0e6-f0ab-402f-bfeb-3390b8878f63",
   "metadata": {},
   "outputs": [
    {
     "name": "stdout",
     "output_type": "stream",
     "text": [
      "\n",
      "Computing weights for the duration: 24h\n",
      "Processed 1151 out of 1151 points (100.0%) - Elapsed time (hh:mm:ss): 00:23:59\n",
      "Computing weights for the duration: 10d\n",
      "Processed 1151 out of 1151 points (100.0%) - Elapsed time (hh:mm:ss): 00:23:59\n",
      "Combining weights for 24h and 10d duration\n",
      "\n",
      "Computing weights for the duration: 60m\n",
      "Processed 1151 out of 1151 points (100.0%) - Elapsed time (hh:mm:ss): 00:24:03\n",
      "Computing weights for the duration: 06h\n",
      "Processed 1151 out of 1151 points (100.0%) - Elapsed time (hh:mm:ss): 00:23:57\n",
      "Combining weights for 60m and 06h duration\n"
     ]
    }
   ],
   "source": [
    "for duration in [\"daily\", \"subdaily\"]:\n",
    "    if duration == \"daily\":\n",
    "        sdur1 = \"24h\"\n",
    "        sdur2 = \"10d\"\n",
    "    elif duration == \"subdaily\":\n",
    "        sdur1 = \"60m\"\n",
    "        sdur2 = \"06h\"\n",
    "\n",
    "    for sdur in [sdur1, sdur2]:\n",
    "        print(f\"\\nComputing weights for the duration: {sdur}\")\n",
    "        logging.info(f\"Computing weights for the duration: {sdur}\")\n",
    "        config[\"amsDuration\"] = sdur\n",
    "        output_weights_dir = Path(config[\"proposedOutputPath\"], config[\"amsDuration\"])\n",
    "        df_grid, df_meta, df_ams, ds_elev = preprocess_input_data(config)\n",
    "        elev_srtm = ds_elev[\"elevation\"].load()\n",
    "        compute_weights_grid_parallel(\n",
    "            df_grid=df_grid,\n",
    "            df_meta=df_meta,\n",
    "            df_ams=df_ams,\n",
    "            config=config,\n",
    "            output_dir=output_weights_dir,\n",
    "            final_output=Path(\n",
    "                output_weights_dir, f\"NeighborWeights_{config['amsDuration']}\"\n",
    "            ),\n",
    "            elev_srtm=elev_srtm,\n",
    "            n_jobs=n_jobs,  # -1: use all cores\n",
    "            batch_size=50,  # Adjust based on in-memory size\n",
    "            cleanup_intermediate_files=True,\n",
    "        )\n",
    "\n",
    "    print(f\"\\nCombining weights for {sdur1} and {sdur2} duration\")\n",
    "\n",
    "    file1 = Path(config[\"proposedOutputPath\"], sdur1, f\"NeighborWeights_{sdur1}.csv\")\n",
    "    file2 = Path(config[\"proposedOutputPath\"], sdur2, f\"NeighborWeights_{sdur2}.csv\")\n",
    "\n",
    "    df1 = pd.read_csv(file1)\n",
    "    df2 = pd.read_csv(file2)\n",
    "\n",
    "    df_daily = combine_and_save_weights(df1, df2, duration, sdur1, sdur2, config)"
   ]
  },
  {
   "cell_type": "code",
   "execution_count": null,
   "id": "627946be-9bcc-490a-bbe8-d1384a1b13f6",
   "metadata": {},
   "outputs": [],
   "source": []
  }
 ],
 "metadata": {
  "kernelspec": {
   "display_name": "na15pfe",
   "language": "python",
   "name": "nonstat_region"
  },
  "language_info": {
   "codemirror_mode": {
    "name": "ipython",
    "version": 3
   },
   "file_extension": ".py",
   "mimetype": "text/x-python",
   "name": "python",
   "nbconvert_exporter": "python",
   "pygments_lexer": "ipython3",
   "version": "3.10.15"
  }
 },
 "nbformat": 4,
 "nbformat_minor": 5
}
